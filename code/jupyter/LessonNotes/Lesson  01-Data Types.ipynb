{
 "cells": [
  {
   "cell_type": "markdown",
   "metadata": {},
   "source": [
    "# A Python Quick Start Tutorial\n",
    "# Lesson \\#1: Basic data types and functions\n",
    "## by Peter Mackenzie-Helnwein\n",
    "University of Washington, Seattle, WA\n",
    "\n",
    "pmackenz@uw.edu          \n",
    "https://www.ce.washington.edu/facultyfinder/peter-mackenzie-helnwein"
   ]
  },
  {
   "cell_type": "markdown",
   "metadata": {},
   "source": [
    "## Resources\n",
    "\n",
    "   1. Python Docs: https://docs.python.org/3/\n",
    "   \n",
    "   1. Python Tutorial (comprehensive): https://docs.python.org/3/tutorial/index.html\n",
    "   \n",
    "   1. Python Library Reference (the nitty-gritty details): https://docs.python.org/3/library/index.html\n",
    "   \n",
    "   1. Everything else: http://google.com\n",
    "   "
   ]
  },
  {
   "cell_type": "markdown",
   "metadata": {},
   "source": [
    "## Discussing questions from the self-study assignment\n",
    "\n",
    "This section is to discuss your questions\n"
   ]
  },
  {
   "cell_type": "markdown",
   "metadata": {},
   "source": [
    "### Exercise 1\n",
    "\n",
    "**Theory**:\n",
    "Stress transformation\n",
    "\n",
    "$$\n",
    "\\begin{aligned}\n",
    "\\sigma_{x}' &= \\sigma_{x} \\cos^2\\theta + \\sigma_{y} \\sin^2\\theta + 2\\tau_{xy} \\sin\\theta \\cos\\theta \\\\\n",
    "\\sigma_{y}' &= \\sigma_{x} \\sin^2\\theta + \\sigma_{y} \\cos^2\\theta - 2\\tau_{xy} \\sin\\theta \\cos\\theta \\\\\n",
    "\\tau_{xy}'  &= (\\sigma_{y} - \\sigma_{x}) \\sin\\theta \\cos\\theta + \\tau_{xy} (\\cos^2\\theta - \\sin^2\\theta) \\\\\n",
    "\\end{aligned}\n",
    "$$\n",
    "\n",
    "**Given**:\n",
    "Stress state:\n",
    "\n",
    "$$\n",
    "\\sigma_{x} = 12~ksi~,\n",
    "~~~\n",
    "\\sigma_{y} = -5.5~ksi~,\n",
    "~~~\n",
    "\\tau_{xy} = 3.5~ksi \n",
    "$$\n",
    "\n",
    "**Find**:\n",
    "Components of stress in a rotated coordinate system for $\\theta=25^\\circ$."
   ]
  },
  {
   "cell_type": "code",
   "execution_count": 1,
   "metadata": {},
   "outputs": [],
   "source": [
    "# theta needs to be in radians\n",
    "# sin and cos are not part of phython\n",
    "\n",
    "from math import sin, cos, pi, radians"
   ]
  },
  {
   "cell_type": "code",
   "execution_count": 2,
   "metadata": {},
   "outputs": [
    {
     "data": {
      "text/plain": [
       "1.5707963267948966"
      ]
     },
     "execution_count": 2,
     "metadata": {},
     "output_type": "execute_result"
    }
   ],
   "source": [
    "radians(90)"
   ]
  },
  {
   "cell_type": "code",
   "execution_count": 9,
   "metadata": {},
   "outputs": [
    {
     "name": "stdout",
     "output_type": "stream",
     "text": [
      "11.555547135673642\n",
      "-5.055547135673642\n",
      "-4.453132243388171\n"
     ]
    }
   ],
   "source": [
    "theta=radians(25)\n",
    "sigma_x=12\n",
    "sigma_y=-5.5\n",
    "tau_xy=3.5\n",
    "sigma_xp=sigma_x*cos(theta)**2+sigma_y*sin(theta)**2+2*tau_xy*sin(theta)*cos(theta)\n",
    "sigma_yp=sigma_x*sin(theta)**2+sigma_y*cos(theta)**2-2*tau_xy*sin(theta)*cos(theta)\n",
    "tau_xyp=(sigma_y-sigma_x)*sin(theta)*cos(theta)+tau_xy*(cos(theta)**2-sin(theta)**2)\n",
    "print(sigma_xp)\n",
    "print(sigma_yp)\n",
    "print(tau_xyp)"
   ]
  },
  {
   "cell_type": "code",
   "execution_count": null,
   "metadata": {},
   "outputs": [],
   "source": []
  },
  {
   "cell_type": "code",
   "execution_count": null,
   "metadata": {},
   "outputs": [],
   "source": []
  },
  {
   "cell_type": "markdown",
   "metadata": {},
   "source": [
    "### Exercise 2\n",
    "\n",
    "Convert the calculation from exercise 1 to a function"
   ]
  },
  {
   "cell_type": "code",
   "execution_count": 83,
   "metadata": {},
   "outputs": [],
   "source": [
    "def stressTransform(sigma_x, sigma_y, tau_xy, theta):\n",
    "    # YOUR CODE\n",
    "    sigma_xp=sigma_x*cos(theta)**2+sigma_y*sin(theta)**2+2*tau_xy*sin(theta)*cos(theta)\n",
    "    sigma_yp=sigma_x*sin(theta)**2+sigma_y*cos(theta)**2-2*tau_xy*sin(theta)*cos(theta)\n",
    "    tau_xyp=(sigma_y-sigma_x)*sin(theta)*cos(theta)+tau_xy*(cos(theta)**2-sin(theta)**2)\n",
    "    return (sigma_xp,sigma_yp,tau_xyp)"
   ]
  },
  {
   "cell_type": "markdown",
   "metadata": {},
   "source": [
    "Test your function for \n",
    "\n",
    "* $\\theta=0$ (what should the result look like?)\n",
    "* $\\theta=25^\\circ$\n",
    "* $\\theta=180^\\circ$"
   ]
  },
  {
   "cell_type": "code",
   "execution_count": 84,
   "metadata": {},
   "outputs": [
    {
     "data": {
      "text/plain": [
       "(12.0, -5.5, 3.5)"
      ]
     },
     "execution_count": 84,
     "metadata": {},
     "output_type": "execute_result"
    }
   ],
   "source": [
    "stressTransform(12,-5.5,3.5,0)"
   ]
  },
  {
   "cell_type": "code",
   "execution_count": 62,
   "metadata": {},
   "outputs": [
    {
     "data": {
      "text/plain": [
       "(10.775140761342241, -4.27514076134224, 5.673161069631774)"
      ]
     },
     "execution_count": 62,
     "metadata": {},
     "output_type": "execute_result"
    }
   ],
   "source": [
    "stressTransform(12,-5.5,3.5,25)"
   ]
  },
  {
   "cell_type": "code",
   "execution_count": 63,
   "metadata": {},
   "outputs": [
    {
     "data": {
      "text/plain": [
       "(4.123907981442958, 2.3760920185570416, -9.383431400078027)"
      ]
     },
     "execution_count": 63,
     "metadata": {},
     "output_type": "execute_result"
    }
   ],
   "source": [
    "stressTransform(12,-5.5,3.5,180)"
   ]
  },
  {
   "cell_type": "markdown",
   "metadata": {},
   "source": [
    "### Exercise 3\n",
    "\n",
    "Let's use this function to study stress transformation.  In order to do so,\n",
    "\n",
    "1. Create a list of 81 evenly spaced $\\theta$-values from $0^\\circ$ to $180^\\circ$.\n",
    "2. Compute the transformed stress for each of these values and collect the results in three lists: \n",
    "\n",
    "       sigmax_values = ...\n",
    "       sigmay_values = ...\n",
    "       tauxy_values = ...\n",
    "\n",
    "3. print a nice table with 4 columns: $\\theta$, $\\sigma_x'$, $\\sigma_y'$, $\\tau_{xy}'$"
   ]
  },
  {
   "cell_type": "code",
   "execution_count": 64,
   "metadata": {},
   "outputs": [
    {
     "name": "stdout",
     "output_type": "stream",
     "text": [
      "[  0.     2.25   4.5    6.75   9.    11.25  13.5   15.75  18.    20.25\n",
      "  22.5   24.75  27.    29.25  31.5   33.75  36.    38.25  40.5   42.75\n",
      "  45.    47.25  49.5   51.75  54.    56.25  58.5   60.75  63.    65.25\n",
      "  67.5   69.75  72.    74.25  76.5   78.75  81.    83.25  85.5   87.75\n",
      "  90.    92.25  94.5   96.75  99.   101.25 103.5  105.75 108.   110.25\n",
      " 112.5  114.75 117.   119.25 121.5  123.75 126.   128.25 130.5  132.75\n",
      " 135.   137.25 139.5  141.75 144.   146.25 148.5  150.75 153.   155.25\n",
      " 157.5  159.75 162.   164.25 166.5  168.75 171.   173.25 175.5  177.75\n",
      " 180.  ]\n"
     ]
    },
    {
     "ename": "TypeError",
     "evalue": "only size-1 arrays can be converted to Python scalars",
     "output_type": "error",
     "traceback": [
      "\u001b[1;31m---------------------------------------------------------------------------\u001b[0m",
      "\u001b[1;31mTypeError\u001b[0m                                 Traceback (most recent call last)",
      "\u001b[1;32m<ipython-input-64-ae765c6f9a0f>\u001b[0m in \u001b[0;36m<module>\u001b[1;34m\u001b[0m\n\u001b[0;32m      6\u001b[0m \u001b[0msigmay_values\u001b[0m \u001b[1;33m=\u001b[0m \u001b[1;33m[\u001b[0m\u001b[1;33m]\u001b[0m\u001b[1;33m\u001b[0m\u001b[1;33m\u001b[0m\u001b[0m\n\u001b[0;32m      7\u001b[0m \u001b[0mtauxy_values\u001b[0m \u001b[1;33m=\u001b[0m \u001b[1;33m[\u001b[0m\u001b[1;33m]\u001b[0m\u001b[1;33m\u001b[0m\u001b[1;33m\u001b[0m\u001b[0m\n\u001b[1;32m----> 8\u001b[1;33m \u001b[0mstress\u001b[0m\u001b[1;33m=\u001b[0m\u001b[0mstressTransform\u001b[0m\u001b[1;33m(\u001b[0m\u001b[0msigma_x\u001b[0m\u001b[1;33m,\u001b[0m \u001b[0msigma_y\u001b[0m\u001b[1;33m,\u001b[0m \u001b[0mtau_xy\u001b[0m\u001b[1;33m,\u001b[0m \u001b[0mthetas\u001b[0m\u001b[1;33m)\u001b[0m\u001b[1;33m\u001b[0m\u001b[1;33m\u001b[0m\u001b[0m\n\u001b[0m\u001b[0;32m      9\u001b[0m \u001b[0mpd\u001b[0m\u001b[1;33m.\u001b[0m\u001b[0mDataFrame\u001b[0m\u001b[1;33m(\u001b[0m\u001b[0mstress\u001b[0m\u001b[1;33m,\u001b[0m\u001b[0mcolumns\u001b[0m\u001b[1;33m=\u001b[0m\u001b[1;33m[\u001b[0m\u001b[1;34m'Theta'\u001b[0m\u001b[1;33m,\u001b[0m\u001b[1;34m'Sigma X'\u001b[0m\u001b[1;33m,\u001b[0m\u001b[1;34m'Sigma Y'\u001b[0m\u001b[1;33m,\u001b[0m\u001b[1;34m'Tau_xy'\u001b[0m\u001b[1;33m]\u001b[0m\u001b[1;33m)\u001b[0m\u001b[1;33m\u001b[0m\u001b[1;33m\u001b[0m\u001b[0m\n\u001b[0;32m     10\u001b[0m \u001b[1;31m# YOUR CODE HERE\u001b[0m\u001b[1;33m\u001b[0m\u001b[1;33m\u001b[0m\u001b[1;33m\u001b[0m\u001b[0m\n",
      "\u001b[1;32m<ipython-input-60-41decf220349>\u001b[0m in \u001b[0;36mstressTransform\u001b[1;34m(sigma_x, sigma_y, tau_xy, theta)\u001b[0m\n\u001b[0;32m      1\u001b[0m \u001b[1;32mdef\u001b[0m \u001b[0mstressTransform\u001b[0m\u001b[1;33m(\u001b[0m\u001b[0msigma_x\u001b[0m\u001b[1;33m,\u001b[0m \u001b[0msigma_y\u001b[0m\u001b[1;33m,\u001b[0m \u001b[0mtau_xy\u001b[0m\u001b[1;33m,\u001b[0m \u001b[0mtheta\u001b[0m\u001b[1;33m)\u001b[0m\u001b[1;33m:\u001b[0m\u001b[1;33m\u001b[0m\u001b[1;33m\u001b[0m\u001b[0m\n\u001b[0;32m      2\u001b[0m     \u001b[1;31m# YOUR CODE\u001b[0m\u001b[1;33m\u001b[0m\u001b[1;33m\u001b[0m\u001b[1;33m\u001b[0m\u001b[0m\n\u001b[1;32m----> 3\u001b[1;33m     \u001b[0msigma_xp\u001b[0m\u001b[1;33m=\u001b[0m\u001b[0msigma_x\u001b[0m\u001b[1;33m*\u001b[0m\u001b[0mcos\u001b[0m\u001b[1;33m(\u001b[0m\u001b[0mtheta\u001b[0m\u001b[1;33m)\u001b[0m\u001b[1;33m**\u001b[0m\u001b[1;36m2\u001b[0m\u001b[1;33m+\u001b[0m\u001b[0msigma_y\u001b[0m\u001b[1;33m*\u001b[0m\u001b[0msin\u001b[0m\u001b[1;33m(\u001b[0m\u001b[0mtheta\u001b[0m\u001b[1;33m)\u001b[0m\u001b[1;33m**\u001b[0m\u001b[1;36m2\u001b[0m\u001b[1;33m+\u001b[0m\u001b[1;36m2\u001b[0m\u001b[1;33m*\u001b[0m\u001b[0mtau_xy\u001b[0m\u001b[1;33m*\u001b[0m\u001b[0msin\u001b[0m\u001b[1;33m(\u001b[0m\u001b[0mtheta\u001b[0m\u001b[1;33m)\u001b[0m\u001b[1;33m*\u001b[0m\u001b[0mcos\u001b[0m\u001b[1;33m(\u001b[0m\u001b[0mtheta\u001b[0m\u001b[1;33m)\u001b[0m\u001b[1;33m\u001b[0m\u001b[1;33m\u001b[0m\u001b[0m\n\u001b[0m\u001b[0;32m      4\u001b[0m     \u001b[0msigma_yp\u001b[0m\u001b[1;33m=\u001b[0m\u001b[0msigma_x\u001b[0m\u001b[1;33m*\u001b[0m\u001b[0msin\u001b[0m\u001b[1;33m(\u001b[0m\u001b[0mtheta\u001b[0m\u001b[1;33m)\u001b[0m\u001b[1;33m**\u001b[0m\u001b[1;36m2\u001b[0m\u001b[1;33m+\u001b[0m\u001b[0msigma_y\u001b[0m\u001b[1;33m*\u001b[0m\u001b[0mcos\u001b[0m\u001b[1;33m(\u001b[0m\u001b[0mtheta\u001b[0m\u001b[1;33m)\u001b[0m\u001b[1;33m**\u001b[0m\u001b[1;36m2\u001b[0m\u001b[1;33m-\u001b[0m\u001b[1;36m2\u001b[0m\u001b[1;33m*\u001b[0m\u001b[0mtau_xy\u001b[0m\u001b[1;33m*\u001b[0m\u001b[0msin\u001b[0m\u001b[1;33m(\u001b[0m\u001b[0mtheta\u001b[0m\u001b[1;33m)\u001b[0m\u001b[1;33m*\u001b[0m\u001b[0mcos\u001b[0m\u001b[1;33m(\u001b[0m\u001b[0mtheta\u001b[0m\u001b[1;33m)\u001b[0m\u001b[1;33m\u001b[0m\u001b[1;33m\u001b[0m\u001b[0m\n\u001b[0;32m      5\u001b[0m     \u001b[0mtau_xyp\u001b[0m\u001b[1;33m=\u001b[0m\u001b[1;33m(\u001b[0m\u001b[0msigma_y\u001b[0m\u001b[1;33m-\u001b[0m\u001b[0msigma_x\u001b[0m\u001b[1;33m)\u001b[0m\u001b[1;33m*\u001b[0m\u001b[0msin\u001b[0m\u001b[1;33m(\u001b[0m\u001b[0mtheta\u001b[0m\u001b[1;33m)\u001b[0m\u001b[1;33m*\u001b[0m\u001b[0mcos\u001b[0m\u001b[1;33m(\u001b[0m\u001b[0mtheta\u001b[0m\u001b[1;33m)\u001b[0m\u001b[1;33m+\u001b[0m\u001b[0mtau_xy\u001b[0m\u001b[1;33m*\u001b[0m\u001b[1;33m(\u001b[0m\u001b[0mcos\u001b[0m\u001b[1;33m(\u001b[0m\u001b[0mtheta\u001b[0m\u001b[1;33m)\u001b[0m\u001b[1;33m**\u001b[0m\u001b[1;36m2\u001b[0m\u001b[1;33m-\u001b[0m\u001b[0msin\u001b[0m\u001b[1;33m(\u001b[0m\u001b[0mtheta\u001b[0m\u001b[1;33m)\u001b[0m\u001b[1;33m**\u001b[0m\u001b[1;36m2\u001b[0m\u001b[1;33m)\u001b[0m\u001b[1;33m\u001b[0m\u001b[1;33m\u001b[0m\u001b[0m\n",
      "\u001b[1;31mTypeError\u001b[0m: only size-1 arrays can be converted to Python scalars"
     ]
    }
   ],
   "source": [
    "import numpy as np\n",
    "import pandas as pd\n",
    "thetas=np.linspace(0,180,81)\n",
    "print(thetas)\n",
    "sigmax_values = []\n",
    "sigmay_values = []\n",
    "tauxy_values = [] \n",
    "stress=stressTransform(sigma_x, sigma_y, tau_xy, thetas)\n",
    "pd.DataFrame(stress,columns=['Theta','Sigma X','Sigma Y','Tau_xy'])\n",
    "# YOUR CODE HERE"
   ]
  },
  {
   "cell_type": "code",
   "execution_count": 65,
   "metadata": {},
   "outputs": [
    {
     "name": "stdout",
     "output_type": "stream",
     "text": [
      "  Theta   Sigma X  Sigma Y  Tau XY\n",
      "    0.00   12.00   -5.50    3.50\n",
      "    2.25   -2.02    8.52    7.82\n",
      "    4.50   -3.28    9.78   -6.79\n",
      "    6.75   11.27   -4.77   -4.95\n",
      "    9.00    6.40    0.10    8.88\n",
      "   11.25   -6.10   12.60    1.21\n",
      "   13.50    4.04    2.46   -9.39\n",
      "   15.75   12.26   -5.76    2.75\n",
      "   18.00   -1.34    7.84    8.23\n",
      "   20.25   -3.83   10.33   -6.22\n",
      "   22.50   10.82   -4.32   -5.61\n",
      "   24.75    7.13   -0.63    8.59\n",
      "   27.00   -5.96   12.46    1.99\n",
      "   29.25    3.25    3.25   -9.42\n",
      "   31.50   12.46   -5.96    1.99\n",
      "   33.75   -0.63    7.13    8.59\n",
      "   36.00   -4.33   10.83   -5.61\n",
      "   38.25   10.33   -3.83   -6.22\n",
      "   40.50    7.84   -1.34    8.23\n",
      "   42.75   -5.76   12.26    2.75\n",
      "   45.00    2.46    4.04   -9.39\n",
      "   47.25   12.60   -6.10    1.21\n",
      "   49.50    0.10    6.40    8.88\n",
      "   51.75   -4.77   11.27   -4.95\n",
      "   54.00    9.78   -3.28   -6.80\n",
      "   56.25    8.52   -2.02    7.82\n",
      "   58.50   -5.50   12.00    3.50\n",
      "   60.75    1.67    4.83   -9.29\n",
      "   63.00   12.66   -6.16    0.42\n",
      "   65.25    0.86    5.64    9.12\n",
      "   67.50   -5.16   11.66   -4.26\n",
      "   69.75    9.19   -2.69   -7.32\n",
      "   72.00    9.15   -2.65    7.35\n",
      "   74.25   -5.17   11.67    4.22\n",
      "   76.50    0.90    5.60   -9.13\n",
      "   78.75   12.67   -6.17   -0.38\n",
      "   81.00    1.63    4.87    9.28\n",
      "   83.25   -5.48   11.98   -3.54\n",
      "   85.50    8.55   -2.05   -7.79\n",
      "   87.75    9.75   -3.25    6.82\n",
      "   90.00   -4.79   11.29    4.92\n",
      "   92.25    0.14    6.36   -8.90\n",
      "   94.50   12.60   -6.10   -1.16\n",
      "   96.75    2.42    4.08    9.39\n",
      "   99.00   -5.75   12.25   -2.79\n",
      "  101.25    7.88   -1.38   -8.21\n",
      "  103.50   10.30   -3.80    6.25\n",
      "  105.75   -4.35   10.85    5.57\n",
      "  108.00   -0.60    7.10   -8.60\n",
      "  110.25   12.47   -5.97   -1.95\n",
      "  112.50    3.21    3.29    9.42\n",
      "  114.75   -5.95   12.45   -2.03\n",
      "  117.00    7.17   -0.67   -8.57\n",
      "  119.25   10.80   -4.30    5.64\n",
      "  121.50   -3.85   10.35    6.19\n",
      "  123.75   -1.31    7.81   -8.25\n",
      "  126.00   12.27   -5.77   -2.71\n",
      "  128.25    4.00    2.50    9.39\n",
      "  130.50   -6.09   12.59   -1.25\n",
      "  132.75    6.44    0.06   -8.87\n",
      "  135.00   11.25   -4.75    4.99\n",
      "  137.25   -3.31    9.81    6.77\n",
      "  139.50   -1.98    8.48   -7.84\n",
      "  141.75   12.02   -5.52   -3.46\n",
      "  144.00    4.79    1.71    9.30\n",
      "  146.25   -6.16   12.66   -0.46\n",
      "  148.50    5.68    0.82   -9.10\n",
      "  150.75   11.64   -5.14    4.30\n",
      "  153.00   -2.72    9.22    7.29\n",
      "  155.25   -2.62    9.12   -7.37\n",
      "  157.50   11.69   -5.19   -4.19\n",
      "  159.75    5.56    0.94    9.14\n",
      "  162.00   -6.17   12.67    0.33\n",
      "  164.25    4.91    1.59   -9.28\n",
      "  166.50   11.97   -5.47    3.58\n",
      "  168.75   -2.08    8.58    7.77\n",
      "  171.00   -3.22    9.72   -6.85\n",
      "  173.25   11.31   -4.81   -4.88\n",
      "  175.50    6.32    0.18    8.91\n",
      "  177.75   -6.11   12.61    1.12\n",
      "  180.00    4.12    2.38   -9.38\n"
     ]
    }
   ],
   "source": [
    "thetas=[]\n",
    "for i in range(81):\n",
    "    thetas.append(180*i/80)\n",
    "sigmax_values = []\n",
    "sigmay_values = []\n",
    "tauxy_values = []\n",
    "print('  Theta   Sigma X  Sigma Y  Tau XY')\n",
    "for i in range(81):\n",
    "    stress=stressTransform(sigma_x, sigma_y, tau_xy, thetas[i])\n",
    "    sigmax_values.append(stress[0])\n",
    "    sigmay_values.append(stress[1])\n",
    "    tauxy_values.append(stress[2])\n",
    "    print(\"{:8.2f}{:8.2f}{:8.2f}{:8.2f}\".format(thetas[i],sigmax_values[i],sigmay_values[i],tauxy_values[i]))\n",
    "    \n",
    "# YOUR CODE HERE"
   ]
  },
  {
   "cell_type": "markdown",
   "metadata": {},
   "source": [
    "### Exercise 4: Explore plotting in python\n",
    "\n",
    "For this, check out https://matplotlib.org/3.1.1/gallery/lines_bars_and_markers/simple_plot.html#sphx-glr-gallery-lines-bars-and-markers-simple-plot-py\n",
    "\n",
    "I copied the demo code below so you can modify it to plot $(\\sigma_{x}'/\\tau_{xy}')$ and  $(\\sigma_{y}'/-\\tau_{xy}')$ curves from the data collected in `sigmax_values`, `sigmay_values`, `tauxy_values`"
   ]
  },
  {
   "cell_type": "code",
   "execution_count": 78,
   "metadata": {},
   "outputs": [
    {
     "data": {
      "image/png": "[encoded data removed]",
      "text/plain": [
       "<Figure size 432x288 with 1 Axes>"
      ]
     },
     "metadata": {
      "needs_background": "light"
     },
     "output_type": "display_data"
    }
   ],
   "source": [
    "import matplotlib\n",
    "import matplotlib.pyplot as plt\n",
    "import numpy as np\n",
    "\n",
    "# Data for plotting\n",
    "sigmax_values=np.array(sigmax_values)\n",
    "sigmay_values=np.array(sigmay_values)\n",
    "tauxy_values=np.array(tauxy_values)\n",
    "t=sigmax_values\n",
    "s=tauxy_values\n",
    "fig, ax = plt.subplots()\n",
    "ax.scatter(t, s)\n",
    "ax.scatter(sigmay_values,-tauxy_values)\n",
    "\n",
    "ax.set(xlabel='\\sigma', ylabel='$\\tau_{xy}$',\n",
    "       title='About as simple as it gets, folks')\n",
    "ax.grid()\n",
    "ax.legend(('$\\sigma_x$','$\\sigma_y$'))\n",
    "\n",
    "# I comment writing the figure to file ... makes this quicker\n",
    "# fig.savefig(\"test.png\")\n",
    "plt.show()"
   ]
  },
  {
   "cell_type": "markdown",
   "metadata": {},
   "source": [
    "**Remark**: This was just to wet your appetite! We will talk much more about `numpy` and `matplotlib` next week."
   ]
  },
  {
   "cell_type": "markdown",
   "metadata": {},
   "source": [
    "## Exercise 5: List versus dictionary\n",
    "\n",
    "You could express the stress state as\n",
    "\n",
    "1. three independent variables - the way we did it thus far\n",
    "\n",
    "2. a list of three values: `stress = `$[\\sigma_x, \\sigma_y, \\tau_{xy}]$ and replace\n",
    "\n",
    "        sigma_x --> stress[0]\n",
    "        sigma_y --> stress[2]\n",
    "        tau_xy  --> stress[3]\n",
    "        \n",
    "3. a dictionary \n",
    "\n",
    "        stress = {'sigx': 12.0, 'sigy': -5.5, 'tau':3.50}\n",
    "        \n",
    "   and replace\n",
    "\n",
    "        sigma_x --> stress['sigx']\n",
    "        sigma_y --> stress['sigy']\n",
    "        tau_xy  --> stress['tau']\n",
    "\n",
    "**Discuss**:\n",
    "\n",
    "1. Pros and cons for coding the equations\n",
    "2. Pros and cons for coding the function(s)\n",
    "3. How woud code and function change when switching from 2D to 3D (6 components instead of 3 components)\n",
    "\n",
    "Feel free to implement an alternative form of stressTrannsform() that looks like this:"
   ]
  },
  {
   "cell_type": "code",
   "execution_count": 85,
   "metadata": {},
   "outputs": [],
   "source": [
    "def stressTransform2(stress, theta):\n",
    "    # YOUR CODE\n",
    "    # stress2 is a list or dictionary, just as stress is\n",
    "    stress2={'sigx': stress[0],\n",
    "            'sigy': stress[1],\n",
    "            'tau': stress[2]}\n",
    "    return stress2"
   ]
  },
  {
   "cell_type": "code",
   "execution_count": 87,
   "metadata": {},
   "outputs": [
    {
     "data": {
      "text/plain": [
       "{'sigx': 12, 'sigy': -5.5, 'tau': 3.5}"
      ]
     },
     "execution_count": 87,
     "metadata": {},
     "output_type": "execute_result"
    }
   ],
   "source": [
    "stressTransform2([12,-5.5,3.5],0)"
   ]
  },
  {
   "cell_type": "markdown",
   "metadata": {},
   "source": [
    "## Homework questions\n",
    "\n",
    "We can all learn from your questions!"
   ]
  },
  {
   "cell_type": "code",
   "execution_count": null,
   "metadata": {},
   "outputs": [],
   "source": []
  }
 ],
 "metadata": {
  "kernelspec": {
   "display_name": "Python 3",
   "language": "python",
   "name": "python3"
  },
  "language_info": {
   "codemirror_mode": {
    "name": "ipython",
    "version": 3
   },
   "file_extension": ".py",
   "mimetype": "text/x-python",
   "name": "python",
   "nbconvert_exporter": "python",
   "pygments_lexer": "ipython3",
   "version": "3.8.5"
  }
 },
 "nbformat": 4,
 "nbformat_minor": 4
}
